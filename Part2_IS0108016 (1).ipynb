{
 "cells": [
  {
   "cell_type": "code",
   "execution_count": 145,
   "id": "5b056cef-a04f-47fa-95f3-1181f443ac56",
   "metadata": {},
   "outputs": [
    {
     "name": "stdout",
     "output_type": "stream",
     "text": [
      "Successfully fetched the web page.\n",
      "Empty DataFrame\n",
      "Columns: [Title, Year, Rating, Sentiment]\n",
      "Index: []\n"
     ]
    }
   ],
   "source": [
    "import requests\n",
    "from bs4 import BeautifulSoup\n",
    "import pandas as pd\n",
    "from textblob import TextBlob\n",
    "\n",
    "# Define the function to get sentiment\n",
    "def get_sentiment(title):\n",
    "    analysis = TextBlob(title)\n",
    "    if analysis.sentiment.polarity > 0:\n",
    "        return 'Positive'\n",
    "    elif analysis.sentiment.polarity == 0:\n",
    "        return 'Neutral'\n",
    "    else:\n",
    "        return 'Negative'\n",
    "\n",
    "# Define the target URL\n",
    "url = 'https://m.imdb.com/list/ls047174346/'\n",
    "\n",
    "# Headers to mimic a browser request\n",
    "headers = {\n",
    "    'User-Agent': 'Mozilla/5.0 (Windows NT 10.0; Win64; x64) AppleWebKit/537.36 (KHTML, like Gecko) Chrome/91.0.4472.124 Safari/537.36'\n",
    "}\n",
    "\n",
    "# Send a request to the website\n",
    "response = requests.get(url, headers=headers)\n",
    "if response.status_code == 200:\n",
    "    print(\"Successfully fetched the web page.\")\n",
    "    # Parse the HTML content\n",
    "    soup = BeautifulSoup(response.content, 'html.parser')\n",
    "else:\n",
    "    print(f\"Failed to fetch the web page. Status code: {response.status_code}\")\n",
    "    exit()\n",
    "\n",
    "# Extract movie data\n",
    "titles = []\n",
    "years = []\n",
    "ratings = []\n",
    "\n",
    "for item in movie_items:\n",
    "    title_element = item.find('h3', class_='ipc-title__text').find('a')\n",
    "    title = title_element.text.strip() if title_element else 'N/A'\n",
    "    year_element = item.find('span', class_='sc-b189961a-8 kLaxqf dli-title-metadata-item')\n",
    "    year = year_element.text.strip('()') if year_element else 'N/A'\n",
    "    rating_element = item.find('span', class_='ipc-rating-star ipc-rating-star--base ipc-rating-star--imdb ratingGroup--imdb-rating')\n",
    "    rating = rating_element.text.strip() if rating_element else 'N/A'\n",
    "    titles.append(title)\n",
    "    years.append(year)\n",
    "    ratings.append(rating)\n",
    "\n",
    "# Create a DataFrame to store the extracted movie data\n",
    "movie_data = pd.DataFrame({'Title': titles, 'Year': years, 'Rating': ratings})\n",
    "\n",
    "# Check if 'Title' column exists before applying sentiment analysis\n",
    "if 'Title' in movie_data.columns:\n",
    "    # Apply sentiment analysis\n",
    "    movie_data['Sentiment'] = movie_data['Title'].apply(get_sentiment)\n",
    "else:\n",
    "    print(\"Column 'Title' not found in DataFrame\")\n",
    "\n",
    "# Display the DataFrame\n",
    "print(movie_data.head())\n",
    "\n",
    "# Save the data to a CSV file\n",
    "movie_data.to_csv('movie_data.csv', index=False)\n"
   ]
  },
  {
   "cell_type": "code",
   "execution_count": null,
   "id": "d1f66d07-7d51-4948-b49c-96f6206c4390",
   "metadata": {},
   "outputs": [],
   "source": []
  }
 ],
 "metadata": {
  "kernelspec": {
   "display_name": "Python 3 (ipykernel)",
   "language": "python",
   "name": "python3"
  },
  "language_info": {
   "codemirror_mode": {
    "name": "ipython",
    "version": 3
   },
   "file_extension": ".py",
   "mimetype": "text/x-python",
   "name": "python",
   "nbconvert_exporter": "python",
   "pygments_lexer": "ipython3",
   "version": "3.11.7"
  }
 },
 "nbformat": 4,
 "nbformat_minor": 5
}
